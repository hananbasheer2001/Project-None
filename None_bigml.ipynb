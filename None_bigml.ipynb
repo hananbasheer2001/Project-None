{
 "cells": [
  {
   "cell_type": "code",
   "execution_count": null,
   "metadata": {},
   "outputs": [],
   "source": [
    "# Requires BigML Python bindings\n",
    "#\n",
    "# Install via: pip install bigml\n",
    "#\n",
    "# or clone it:\n",
    "#   git clone https://github.com/bigmlcom/python.git\n",
    "\n",
    "from bigml.model import Model\n",
    "from bigml.api import BigML\n",
    "\n",
    "# Downloads and generates a local version of the model, if it\n",
    "# hasn't been downloaded previously.\n",
    "\n",
    "model = Model('model/646a8d9a8f679a2e84553517',\n",
    "              api=BigML(\"hanubhai2001\",\n",
    "                        \"7b8275d9f439d5d4084e72692dfbd048a111c72b\",\n",
    "                        domain=\"bigml.io\"))\n",
    "\n",
    "\n",
    "# To make predictions fill the desired input_data in next line.\n",
    "input_data = {}\n",
    "\n",
    "model.predict(input_data, full=True)\n",
    "\n",
    "#\n",
    "# input_data: dict for the input values\n",
    "# (e.g. {\"petal length\": 1, \"sepal length\": 3})\n",
    "# full: if set to True, the output will be a dictionary that includes all the\n",
    "# available information in the predicted node. The attributes vary depending\n",
    "# on the model type. Please check:\n",
    "# https://bigml.readthedocs.io/en/latest/#local-predictions"
   ]
  }
 ],
 "metadata": {
  "language_info": {
   "name": "python"
  },
  "orig_nbformat": 4
 },
 "nbformat": 4,
 "nbformat_minor": 2
}
